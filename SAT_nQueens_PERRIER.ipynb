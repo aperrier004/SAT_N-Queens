{
  "nbformat": 4,
  "nbformat_minor": 0,
  "metadata": {
    "colab": {
      "name": "SAT_nQueens_PERRIER.ipynb",
      "provenance": [],
      "collapsed_sections": [],
      "include_colab_link": true
    },
    "kernelspec": {
      "name": "python3",
      "display_name": "Python 3"
    },
    "accelerator": "GPU"
  },
  "cells": [
    {
      "cell_type": "markdown",
      "metadata": {
        "id": "view-in-github",
        "colab_type": "text"
      },
      "source": [
        "<a href=\"https://colab.research.google.com/github/aperrier004/SAT_N-Queens/blob/main/SAT_nQueens_PERRIER.ipynb\" target=\"_parent\"><img src=\"https://colab.research.google.com/assets/colab-badge.svg\" alt=\"Open In Colab\"/></a>"
      ]
    },
    {
      "cell_type": "markdown",
      "source": [
        "# The N-Queens Problem\n",
        "Author : Alban PERRIER\n",
        "\n",
        "Repository project : https://github.com/aperrier004/SAT_N-Queens\n",
        "\n",
        "Problematic : How does encoding and search evolve by increasing the size of the chessboard ?"
      ],
      "metadata": {
        "id": "_x-SDTiS93Ph"
      }
    },
    {
      "cell_type": "markdown",
      "source": [
        "# The Eight Queens Problem\n",
        "The basic eight queens problem takes place on a 8x8 chessboard with the goal of finding the best way to place eight queens on it so that no queen would attack any other queen."
      ],
      "metadata": {
        "id": "OkzPwiqtZwKv"
      }
    },
    {
      "cell_type": "markdown",
      "source": [
        "# Setup"
      ],
      "metadata": {
        "id": "ISXbRMl6YhHJ"
      }
    },
    {
      "cell_type": "markdown",
      "source": [
        "/!\\ You need to have pysat installed /!\\"
      ],
      "metadata": {
        "id": "193wnVl5X7mu"
      }
    },
    {
      "cell_type": "code",
      "metadata": {
        "id": "0aVJ_9iebJwX"
      },
      "source": [
        "from pysat import Solver"
      ],
      "execution_count": null,
      "outputs": []
    },
    {
      "cell_type": "markdown",
      "source": [
        "# SAT"
      ],
      "metadata": {
        "id": "cOm8d8pqYp0u"
      }
    },
    {
      "cell_type": "markdown",
      "source": [
        "## Functions"
      ],
      "metadata": {
        "id": "l8lHQOQHePx4"
      }
    },
    {
      "cell_type": "code",
      "metadata": {
        "id": "h-kz4WcYqY59"
      },
      "source": [
        "def generateConstraints(n):\n",
        "  \"\"\"\"Return generated constraints definition\"\"\"\n",
        "  cnf=[] # Contain every solutions\n",
        "  queen=[] # COntain the queens of every solutions\n",
        "\n",
        "  for i in range (n):\n",
        "    rowQueen=[]\n",
        "    for j in range (n):\n",
        "      rowQueen.append ((i*n+j+1))\n",
        "    queen.append(rowQueen)\n",
        "\n",
        "  # Row and col : at least one Queen\n",
        "  for i in range(n):\n",
        "      queenInRow=[]\n",
        "      queenInCol=[]\n",
        "      for j in range(n):\n",
        "          queenInRow.append(queen[i][j])\n",
        "          queenInCol.append(queen[j][i])\n",
        "      cnf.append(queenInRow)\n",
        "      cnf.append(queenInCol)\n",
        "\n",
        "  # Row/Col : one Queen\n",
        "  for i in range (n):\n",
        "      for j in range(n):\n",
        "          for k in range(j+1,n): #Col\n",
        "            cnf.append([-queen[i][j],-queen[i][k]])\n",
        "\n",
        "  for i in range (n):\n",
        "      for j in range(n):\n",
        "          for k in range(i+1,n): #Row\n",
        "            cnf.append([-queen[i][j],-queen[k][j]])\n",
        "\n",
        "  # Diagonal : one Queen for each\n",
        "  for i in range (n):\n",
        "      for j in range (n):\n",
        "        for k in range (1,n):\n",
        "          if (i+k<n and j+k<n):\n",
        "            cnf.append([-queen[i][j],-queen[i+k][j+k]])\n",
        "          if (i-k>=0 and j+k<n):\n",
        "            cnf.append([-queen[i][j],-queen[i-k][j+k]])\n",
        "  return cnf"
      ],
      "execution_count": null,
      "outputs": []
    },
    {
      "cell_type": "code",
      "source": [
        "def print_chessboard(solution, n):\n",
        "  \"\"\"\"Print the chessboard with the Queens placed on it\"\"\"\n",
        "  queen=[]\n",
        "  for i in range (n):\n",
        "    rowQueen=[]\n",
        "    for j in range (n):\n",
        "      rowQueen.append (0)\n",
        "    queen.append(rowQueen)\n",
        "\n",
        "  for i in solution:\n",
        "      if i >0:\n",
        "        x=i\n",
        "        queen[(x-1)//n][(x-1)%n]=\"Q\"\n",
        "      else:\n",
        "        x=int(-i)\n",
        "        queen[(x-1)//n][(x-1)%n]=\"-\"\n",
        "\n",
        "  for i in queen :\n",
        "    print (i)"
      ],
      "metadata": {
        "id": "Ibp6JK1yeS9m"
      },
      "execution_count": null,
      "outputs": []
    },
    {
      "cell_type": "code",
      "source": [
        "def solve_n_queens(n):\n",
        "  \"\"\"\"Return the solution of the Solver\"\"\"\n",
        "  cnf = generateConstraints(n)\n",
        "\n",
        "  s=Solver()\n",
        "  for i in cnf:\n",
        "    s.addClause(i)\n",
        "  s.buildDataStructure()\n",
        "  s.solve()\n",
        "  #s.printFinalStats()\n",
        "\n",
        "  solution = s.finalModel\n",
        "\n",
        "  return solution"
      ],
      "metadata": {
        "id": "y8wIsc71-ejr"
      },
      "execution_count": null,
      "outputs": []
    },
    {
      "cell_type": "markdown",
      "source": [
        "## Solutions"
      ],
      "metadata": {
        "id": "0DdbJKOqfH8y"
      }
    },
    {
      "cell_type": "markdown",
      "source": [
        "### 8-Queens problem"
      ],
      "metadata": {
        "id": "jzE0qZUxgA3a"
      }
    },
    {
      "cell_type": "code",
      "metadata": {
        "colab": {
          "base_uri": "https://localhost:8080/"
        },
        "id": "MoeN0M42sLiz",
        "outputId": "033e5f87-02d1-4803-d78f-34e8da03a8d7"
      },
      "source": [
        "# 8-Queens problem\n",
        "solution = solve_n_queens(8)\n",
        "\n",
        "print_chessboard(solution, 8)"
      ],
      "execution_count": null,
      "outputs": [
        {
          "output_type": "stream",
          "name": "stdout",
          "text": [
            "c Building data structures in 0.00s\n",
            "c Ready to go with 64 variables and 744 clauses\n",
            "c cpu time: \u001b[1;32m0.02\u001b[0ms (search=0.01s)\n",
            "c conflicts: 24 (1711/s)\n",
            "c unary clauses: 0\n",
            "c restarts: 1\n",
            "c propagations: 395 (28167/s)\n",
            "c Moved Watches: 328\n",
            "c Inspected Watches: 2109\n",
            "c VSIDS rescaling: 0\n",
            "c Avg Decision Levels: 15\n",
            "c Avg Trail Size: 59\n",
            "c Resolutions: 173 (7.21/confl)\n",
            "['-', '-', '-', 'Q', '-', '-', '-', '-']\n",
            "['-', 'Q', '-', '-', '-', '-', '-', '-']\n",
            "['-', '-', '-', '-', '-', '-', 'Q', '-']\n",
            "['-', '-', 'Q', '-', '-', '-', '-', '-']\n",
            "['-', '-', '-', '-', '-', 'Q', '-', '-']\n",
            "['-', '-', '-', '-', '-', '-', '-', 'Q']\n",
            "['-', '-', '-', '-', 'Q', '-', '-', '-']\n",
            "['Q', '-', '-', '-', '-', '-', '-', '-']\n"
          ]
        }
      ]
    },
    {
      "cell_type": "markdown",
      "source": [
        "The 8-Queens problem is easily solved and here we give one of the possible solutions that exists. The SAT solver is pretty good as solving it and we can see that the used cpu time is very low with 0.02s (runned on Colab without GPU)."
      ],
      "metadata": {
        "id": "V77OjJ9Mf61f"
      }
    },
    {
      "cell_type": "markdown",
      "source": [
        "### Expanding the problem to \"N\" QUeens on an NxN chessboard"
      ],
      "metadata": {
        "id": "yBmuxzzEhJQC"
      }
    },
    {
      "cell_type": "markdown",
      "source": [
        "First, we can explore the running time results"
      ],
      "metadata": {
        "id": "pqYeHEEWj1Bx"
      }
    },
    {
      "cell_type": "code",
      "source": [
        "input_size = [8,25,50,100,150]\n",
        "\n",
        "for i in input_size:\n",
        "  print(\"\\n\"+str(i)+\"-Queens\")\n",
        "  solve_n_queens(i)"
      ],
      "metadata": {
        "colab": {
          "base_uri": "https://localhost:8080/"
        },
        "id": "r7D25Pz5-mOy",
        "outputId": "59667919-40ea-4959-8465-257055538f00"
      },
      "execution_count": null,
      "outputs": [
        {
          "output_type": "stream",
          "name": "stdout",
          "text": [
            "\n",
            "8-Queens\n",
            "c Building data structures in 0.00s\n",
            "c Ready to go with 64 variables and 744 clauses\n",
            "c cpu time: \u001b[1;32m0.02\u001b[0ms (search=0.02s)\n",
            "c conflicts: 24 (1415/s)\n",
            "c unary clauses: 0\n",
            "c restarts: 1\n",
            "c propagations: 395 (23302/s)\n",
            "c Moved Watches: 328\n",
            "c Inspected Watches: 2109\n",
            "c VSIDS rescaling: 0\n",
            "c Avg Decision Levels: 15\n",
            "c Avg Trail Size: 59\n",
            "c Resolutions: 173 (7.21/confl)\n",
            "\n",
            "25-Queens\n",
            "c Building data structures in 0.04s\n",
            "c Ready to go with 625 variables and 24850 clauses\n",
            "c 100 conflicts, 3749 propagations, 1 restarts, 0/0 unaries, 170 decisions depth, 576 propagation depth, 1120 resolutions\n",
            "c cpu time: \u001b[1;32m0.71\u001b[0ms (search=0.48s)\n",
            "c conflicts: 156 (323/s)\n",
            "c unary clauses: 0\n",
            "c restarts: 2\n",
            "c propagations: 6289 (13043/s)\n",
            "c Moved Watches: 4915\n",
            "c Inspected Watches: 50491\n",
            "c VSIDS rescaling: 0\n",
            "c Avg Decision Levels: 170\n",
            "c Avg Trail Size: 579\n",
            "c Resolutions: 1886 (12.09/confl)\n",
            "\n",
            "50-Queens\n",
            "c Building data structures in 0.33s\n",
            "c Ready to go with 2500 variables and 203450 clauses\n",
            "c 100 conflicts, 7380 propagations, 1 restarts, 0/0 unaries, 719 decisions depth, 2303 propagation depth, 1254 resolutions\n",
            "c cpu time: \u001b[1;32m2.32\u001b[0ms (search=1.00s)\n",
            "c conflicts: 187 (187/s)\n",
            "c unary clauses: 0\n",
            "c restarts: 2\n",
            "c propagations: 13188 (13202/s)\n",
            "c Moved Watches: 5681\n",
            "c Inspected Watches: 123223\n",
            "c VSIDS rescaling: 0\n",
            "c Avg Decision Levels: 710\n",
            "c Avg Trail Size: 2321\n",
            "c Resolutions: 2423 (12.96/confl)\n",
            "\n",
            "100-Queens\n",
            "c Building data structures in 2.66s\n",
            "c Ready to go with 10000 variables and 1646900 clauses\n",
            "c 100 conflicts, 19019 propagations, 1 restarts, 0/0 unaries, 2928 decisions depth, 9168 propagation depth, 1297 resolutions\n",
            "c 200 conflicts, 36909 propagations, 2 restarts, 0/0 unaries, 2959 decisions depth, 9353 propagation depth, 2815 resolutions\n",
            "c 300 conflicts, 44363 propagations, 2 restarts, 0/0 unaries, 2990 decisions depth, 9520 propagation depth, 4631 resolutions\n",
            "c cpu time: \u001b[1;32m15.35\u001b[0ms (search=5.14s)\n",
            "c conflicts: 314 (61/s)\n",
            "c unary clauses: 0\n",
            "c restarts: 2\n",
            "c propagations: 45424 (8836/s)\n",
            "c Moved Watches: 15428\n",
            "c Inspected Watches: 578310\n",
            "c VSIDS rescaling: 0\n",
            "c Avg Decision Levels: 2992\n",
            "c Avg Trail Size: 9536\n",
            "c Resolutions: 4896 (15.59/confl)\n",
            "\n",
            "150-Queens\n",
            "c Building data structures in 9.18s\n",
            "c Ready to go with 22500 variables and 5580350 clauses\n",
            "c 100 conflicts, 36814 propagations, 1 restarts, 0/0 unaries, 6624 decisions depth, 20631 propagation depth, 1413 resolutions\n",
            "c 200 conflicts, 79841 propagations, 2 restarts, 0/0 unaries, 6489 decisions depth, 20184 propagation depth, 3139 resolutions\n",
            "c 300 conflicts, 91270 propagations, 2 restarts, 0/0 unaries, 6702 decisions depth, 20859 propagation depth, 4695 resolutions\n",
            "c 400 conflicts, 123885 propagations, 3 restarts, 0/0 unaries, 6761 decisions depth, 21202 propagation depth, 6173 resolutions\n",
            "c cpu time: \u001b[1;32m45.96\u001b[0ms (search=11.63s)\n",
            "c conflicts: 403 (34/s)\n",
            "c unary clauses: 0\n",
            "c restarts: 3\n",
            "c propagations: 124183 (10680/s)\n",
            "c Moved Watches: 24810\n",
            "c Inspected Watches: 1224711\n",
            "c VSIDS rescaling: 0\n",
            "c Avg Decision Levels: 6759\n",
            "c Avg Trail Size: 21211\n",
            "c Resolutions: 6220 (15.43/confl)\n"
          ]
        }
      ]
    },
    {
      "cell_type": "markdown",
      "source": [
        "# Interpretations"
      ],
      "metadata": {
        "id": "fCOQ-lTjiScw"
      }
    },
    {
      "cell_type": "markdown",
      "source": [
        "## Exploring the running time"
      ],
      "metadata": {
        "id": "so9x-683kXG7"
      }
    },
    {
      "cell_type": "markdown",
      "source": [
        "The N-queens problem has many well known solutions that use certain patterns and symmetries that were found to repeatedly occur in valid arrangements. By definition, work with SAT and employing a SAT-solver is not optimal as the figure below shows. Indeed, while there always remains a possibility that the solver will be able to encounter a valid assignment relatively early, even in the most optimistic scenario the processing time is increasing rapidly."
      ],
      "metadata": {
        "id": "NtUsFLM2iX36"
      }
    },
    {
      "cell_type": "markdown",
      "source": [
        "![running_time.png](data:image/png;base64,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)"
      ],
      "metadata": {
        "id": "xqAi3h4tk-SO"
      }
    },
    {
      "cell_type": "markdown",
      "source": [
        "### Code"
      ],
      "metadata": {
        "id": "9UuxEF-dk4MJ"
      }
    },
    {
      "cell_type": "code",
      "source": [
        "import matplotlib.pyplot as plt\n",
        "\n",
        "\n",
        "fig, ax = plt.subplots()\n",
        "n_queens = [\"n = 8\",\"n = 25\",\"n = 50\",\"n = 100\",\"n = 150\"]\n",
        "time = [0.02,0.71,2.32,15.35,45.96]\n",
        "ax.bar(n_queens,time)\n",
        "plt.xlabel('input size')\n",
        "plt.ylabel('running time (s)')\n",
        "ax.set_yscale('log')\n",
        "ax.grid(axis='y')\n",
        "ax.set_title(\"Running time for the N-queens problem\")\n",
        "\n",
        "fig.savefig(\"running_time.png\")\n",
        "plt.show()\n"
      ],
      "metadata": {
        "colab": {
          "base_uri": "https://localhost:8080/",
          "height": 295
        },
        "id": "LVT6uk90idCo",
        "outputId": "fc7de987-88b6-4a06-e589-e0963bbd49c6"
      },
      "execution_count": null,
      "outputs": [
        {
          "output_type": "display_data",
          "data": {
            "image/png": "[encoded data removed]",
            "text/plain": [
              "<Figure size 432x288 with 1 Axes>"
            ]
          },
          "metadata": {
            "needs_background": "light"
          }
        }
      ]
    },
    {
      "cell_type": "markdown",
      "source": [
        "## Exploring the variables and clauses"
      ],
      "metadata": {
        "id": "jDUv-zCPkakz"
      }
    },
    {
      "cell_type": "markdown",
      "source": [
        "As we can see in the figure below, the encoding of the N-Queen problem using SAT involves introducing numerous variables and connecting them by a high number of constraints. In particular, the number of clauses rises quadratically, as expected due to the constraints."
      ],
      "metadata": {
        "id": "y0k9wJpkknpm"
      }
    },
    {
      "cell_type": "markdown",
      "source": [
        "![variable_clause.png](data:image/png;base64,iVBORw0KGgoAAAANSUhEUgAAAbAAAAEgCAYAAADVKCZpAAAABHNCSVQICAgIfAhkiAAAAAlwSFlzAAALEgAACxIB0t1+/AAAADh0RVh0U29mdHdhcmUAbWF0cGxvdGxpYiB2ZXJzaW9uMy4yLjIsIGh0dHA6Ly9tYXRwbG90bGliLm9yZy+WH4yJAAAgAElEQVR4nOzdeVxUZfv48c8oKKHIJioCoga54JoL2iZouGVoimhuuEVli9miPu72uGWP7VY/yhSTJPT5KpkbLpCV4pJpLqnk4wYSLiwCCrLcvz9OjCCgogzDDNf79ZrXMGfOmXPdMzAX933uRaeUUgghhBAmppqxAxBCCCHuhyQwIYQQJkkSmBBCCJMkCUwIIYRJkgQmhBDCJEkCE0IIYZIkgQkhhDBJksCEEEKYJElgQgghTJIkMCGEECZJEpgQQgiTJAlMCCGESZIEJoQQwiRJAhNCCGGSJIEJIYQwSZLAhBBCmCRJYEIIIUySJDAhhBAmSRKYmZgzZw4jRoyosPP5+Pjw9ddfV9j5CluxYgVPPPHEfR370ksv8e9//7ucI6r8+vTpQ2ho6D3t27hxY7Zv317iczExMbi6upZnaOVCp9Px119/GTsMUcEkgZmQ7777jo4dO1K7dm2cnZ3p06cPv/zyi7HDqnSWLVtG8+bNsbGxoX79+vTt25f09HQAvvzyS2bOnGnkCO9s0aJFPPXUU8W2X7lyhRo1anD06NEyv+bmzZsJCgoqj/AMZuHChUybNq3E5xITExk3bhzOzs7Y2NjQvHlzZs+eTWZmZgVHKSoTSWAm4oMPPuCNN95g2rRpJCUlcf78eSZMmEBkZKSxQzOo3NzcMu3/008/MW3aNFavXk16ejp//vknQ4YMMVB0hjFixAh2797NmTNnimwPDw+ndevWtGrV6p5fSylFfn5+eYdoEBs3bqRv377FticnJ9O1a1du3LjBnj17SE9PZ9u2baSmpnL69GkjRCoqC0lgJiAtLY1Zs2axdOlSBg4cSK1atbC0tOTZZ5/l/fff1+938+ZNRo0ahY2NDV5eXhw4cED/3MWLFxk0aBBOTk40adKETz75RP/cvn376NixI3Xq1KF+/fq8+eabAGRlZTFixAgcHR2xs7OjU6dOJCUl6Y87ffo0nTt3pk6dOvTv35/k5GT9cz/88ANeXl7Y2dnh4+PDn3/+qX9u0aJFPPzww9jY2NCyZUvWrVunf27FihU8/vjjTJo0CUdHR+bMmcPVq1fx9/enTp06dO7c+Y5fWvv376dr1660b98eAAcHB4KCgrCxsQFg9OjRzJgxA4Bnn32W2rVr62/VqlVjxYoVAJw4cQI/Pz8cHBxo1qwZERERJZ7v+++/p2PHjkW2ffjhh/j7+wOwadMmWrZsiY2NDS4uLvznP/8pNfYCrq6udO/enW+//bbI9pUrVzJq1ChSUlLo168fTk5O2Nvb069fP+Lj4/X7+fj4MH36dB5//HGsra353//+V6TJ9/Tp03Tv3h1HR0fq1q3L8OHDSU1NLfY+tmzZEnt7e8aMGUNWVlaJsd7P71VJUlJSOHXqFF27di323AcffICNjQ2rVq2icePGALi5ufHxxx/Tpk2bYvtv3LiR9u3bU6dOHdzc3JgzZ47+uZKaQAs3md4p5tjYWB577DHs7Oxo27YtMTExpZZHVBAlKr3Nmzer6tWrq5ycnFL3mT17tqpZs6bauHGjys3NVVOnTlXe3t5KKaXy8vLUo48+qubOnauys7PV6dOnVZMmTdSWLVuUUkp16dJFrVy5UimlVHp6utqzZ49SSqkvv/xS9evXT2VmZqrc3Fx14MABlZaWppRSqlu3bqphw4bqyJEjKiMjQw0cOFANHz5cKaXUyZMnlbW1tYqKilI3b95U7733nnr44YdVdna2UkqpiIgIlZCQoPLy8lR4eLiytrZWFy9eVEoptXz5clW9enX1ySefqJycHHX9+nU1ZMgQNXjwYJWRkaGOHDmiGjZsqB5//PES34ddu3YpKysrNWvWLPXLL7+orKysIs8HBQWp6dOnFztu06ZNytnZWZ0/f15lZGQoV1dX9c0336icnBx18OBB5ejoqI4dO1bsuMzMTFW7dm116tQp/baOHTuq1atXK6WUatCggdq1a5dSSqnk5GT122+/lfoZFrZq1Srl4eGhf3zixAllaWmpLl26pK5cuaLWrl2rMjMz1bVr11RAQIDq37+/ft9u3bopNzc3dfToUZWTk6Nu3rypunXrpr766iullFJxcXEqKipKZWVlqUuXLqknn3xSTZw4UX+8u7u78vLyUufPn1dXr15Vjz32mP49i46OVi4uLkqp+/+9Ksnq1avV0KFDS3zO29tbzZo1647vF6Di4uL0Mf7xxx8qLy9PHT58WNWrV0+tW7euWPyFy7tt27Y7xhwfH68cHBzUxo0bVV5enoqKilIODg7q0qVLd4xLGJYkMBOwatUqVb9+/TvuM3v2bNWjRw/942PHjikrKyullFKxsbHKzc2tyP4LFixQo0ePVkop9eSTT6pZs2apy5cvF9ln2bJlqmvXrurw4cPFztetWzc1ZcqUIueztLRUubm56t1331WDBw/WP5eXl6caNmyooqOjS4y9bdu2av369UopLYEVjjU3N1dZWFioP//8U7/tX//6V6kJTCktGfXr10/Z2tqqWrVqqUmTJqnc3FylVMkJ7OTJk8rJyUn9/PPPSimlwsPD1RNPPFFkn+DgYDVnzpwSzzd8+HA1d+5cpZRSp06dUrVr11aZmZlKKaXc3NzUl19+qU/89yozM1PZ2NioX3/9VSml1LRp05S/v3+J+/7+++/Kzs5O/7hbt25q5syZRfYpnMBut27dOtWuXTv9Y3d3d/XFF1/oH2/cuFE1bdpUKVU0Adzv71VJRowYoU8ct/Pw8CgST0kKJ7DbTZw4Ub3xxhvF4i9QOIGVFvOiRYvUiBEjimzr2bOnWrFixR3jEoYlTYgmwNHRkStXrtz1elCDBg30P1tbW5OVlUVubi7nzp3j4sWL2NnZ6W8LFizQNwcuW7aMU6dO0bx5czp16sSPP/4IwMiRI+nVqxdDhw6lYcOGTJ48mZycHP053Nzc9D+7u7uTk5PDlStXuHjxIu7u7vrnqlWrhpubGwkJCYDWFNauXTt9LEePHuXKlSslvu7ly5fJzc0tdq476dOnDxs2bCA5OZnIyEhWrFhRao/JtLQ0+vfvz7x58/Q9G8+dO8fevXuLvF9hYWH8/fffJb7GsGHDWL16NaB1tBkwYADW1tYA/Pe//2XTpk24u7vTrVs39uzZc8fYC1hbWzN48GBWrlyJUoqwsDBGjRoFwPXr13nxxRdxd3enTp06PPXUU6SmppKXl6c/vvD7dbukpCSGDh2Ki4sLderUYcSIEUXe/9uPd3d35+LFi8Ve535/r26Xn5/Ptm3b6N27d4nPOzo6kpiYWGp5brd37158fX1xcnLC1taWL7/8slj5SlNazOfOnWPNmjVFyvrLL7+UKS5R/iSBmYCuXbtSs2ZN1q9ff1/Hu7m50aRJE1JTU/W39PR0Nm3aBICnpyerV6/m0qVLTJkyhYCAADIzM7G0tGT27NkcP36c3bt38+OPP7Jy5Ur96164cEH/8/nz57G0tKRu3bo0bNiQc+fO6Z9TSnHhwgVcXFw4d+4cL7zwAp999hlXr14lNTWVVq1aoZTS76/T6fQ/Ozk5YWFhUexc96JatWr06NGD7t27l9hzLz8/n2HDhuHr60twcHCR96tbt25F3q+MjAy++OKLEs/j5+fH5cuXOXToEKtXr2bYsGH65zp16kRkZCSXLl1iwIABBAYG3lPsAEFBQURERLBt2zbS09N59tlnAViyZAknT55k7969XLt2jV27dgGU+h7ebtq0aeh0Oo4cOcK1a9dYtWpVkWOh+GfbsGHDYq9zv79Xt9u/fz/u7u44OTmVGO/TTz/NunXr7rkzyrBhw/D39+fChQukpaXx0ksv6ctXq1Ytrl+/rt83Ly+Py5cv6x+XFrObmxsjR44sUtbMzEymTp16TzEJw5AEZgJsbW159913eeWVV1i/fj3Xr18nJyeHzZs3M3ny5Lse37lzZ2xsbHjvvfe4ceMGeXl5HD16lP379wOwatUqLl++TLVq1bCzswO0L//o6GiOHDlCXl4ederUwdLSkmrVbv3KrFq1iuPHj3P9+nVmzZpFQEAA1atXJzAwkI0bN7Jjxw5ycnJYsmQJNWvW5LHHHiMzMxOdTqf/slq+fPkdu4VXr16dgQMHMmfOHK5fv87x48fvOJ4pMjKS8PBwUlJSUEqxb98+fvrpJ7p06VJs3+nTp5OZmcnHH39cZHu/fv04deoU3377LTk5OeTk5LB///4iHVEKs7S0ZPDgwbzzzjskJyfj5+cHaJ1qwsLCSEtLw9LSkjp16hR5/+7mySefxM7OjuDgYIYOHUqNGjUASE9P56GHHsLOzo7k5GTmzp17z69ZcHzt2rWxtbUlISGhSEegAkuXLiU+Pp7k5GTmz59fYk/O+/29ut2mTZt45plnSo33zTff5Nq1awQFBen/MUpISODNN9/kjz/+KLF8Dg4OWFlZsW/fPr777jv9c4888ghZWVls3LiRnJwc5s2bR3Z2tv750mIeMWIEGzZsYOvWreTl5ZGVlUVMTEyRzjOi4kkCMxFvvfUWH3zwAfPmzcPJyQk3Nzc+++wzBgwYcNdjq1evzo8//sihQ4do0qQJdevWZfz48aSlpQGwZcsWvLy8qF27NhMnTiQ8PJyHHnqIv//+m4CAAOrUqUOLFi3o1q0bI0eO1L/uyJEjGT16NA0aNCArK0vfA61Zs2asWrWK1157jbp167JhwwY2bNhAjRo1aNmyJW+99RZdu3alfv36HDlyhMcff/yO8X/22WdkZGTQoEEDRo8ezZgxY0rd197enq+++gpPT09989g777zD8OHDi+27evVqYmNjsbe31/dEDAsLw8bGhqioKMLDw2nYsCENGjRgypQpRb7objds2DC2b9/O4MGDsbCw0G//9ttvady4MXXq1OHLL78kLCwM0Go1tWvXvmNtUqfTMWrUKM6dO6dvPgR44403uHHjBnXr1qVLly6lNr2VZvbs2Rw8eBBbW1ueeeYZBg4cWGJ5evbsSdOmTXn44Yf1PTcLu9/fq9uV1n2+gIODA7t378bS0hJvb29sbGzo0aMHtra2eHh4FNv/888/Z9asWdjY2PDuu+8WqfXa2try+eefM378eFxcXKhVq1aRXomlxezm5kZkZCQLFizQ//29//77JjNEwVzp1O1tB0IIUUGSkpJo3749CQkJd2z2FKIkUgMTQhhNWloaS5YskeQl7ovUwIQQQpgkqYEJIYQwSZLAhBBCmCRJYEIIIUySxd13MU1169bVT/xZ2WVmZlKrVi1jh2EQ5lw2MO/ySdlM14OU7+zZs/c8c4mxmW0Ca9y4cZHZ2CuzmJgYfHx8jB2GQZhz2cC8yydlM10PUr7bV1eozKQJUQghhEmSBCaEEMIkSQITQghhksz2GlhJcnJyiI+PL3V1WWOxtbUtdaLYysbKygpXV1csLS2NHYoQooqrUgksPj4eGxsbGjduXKmmrklPT9cveV+ZKaW4evUq8fHxNGnSxNjhCCEKW7wYOnUCX99b26KjYf9+uIdVK0xRlWpCzMrKwtHRsVIlL1Oi0+lwdHSsdDVYIQRa8goM1JIWaPeBgdp2M1WlamBw54X+xN3J+ydEJeXrC99/D/3708TfH7ZuhYiIojUyM1OlamCmrm/fvqSmpt5xn9q1a5e4ffTo0axdu9YQYQkhKosTJyA9HfewMHj5ZbNOXiAJ7I7CwqBxY6hWTbv/Zy3CCqeUIj8/n02bNulXiRVCiCJiY+H116FGDc6OGAFffHGrOdFMSQIrRVgYBAfDuXOglHYfHPxgSWzq1KksXbpU/3jOnDnMmzePZ599lkcffZTWrVsTGRkJaNO5NGvWjFGjRtGqVSsuXLhA48aN9VO8DBgwgA4dOuDl5UVISEiR80yaNAkvLy969OjB5cuXi8Xx22+/0a1bNzp06ECvXr1ITEwE4JNPPqFly5a0adOGoUOH3n9BhRAV6/JlePZZ7ctqzRrOjhunNR8WviZmhqrcNbACb7wBhw6V/nxsLNy+gvz16zBuHHz1VcnHtGsHH31U+msOGTKEN954g1deeQWAiIgItm7dypgxY3BxceHKlSt06dIFf39/AOLi4ggNDaVLly7FXuubb77BwcGBGzdu0KlTJwYNGoSjoyOZmZl07NiRDz/8kHfffZe5c+fy2Wef6Y/LycnhtddeIzIyEicnJ77//numT5/ON998w6JFizhz5gw1a9a8a1OlEKKSyMuDYcMgJQU+/xz8/SEmRms+jIjQeiGaaVNilU1gd3N78rrb9nvRvn17Ll26xMWLF7l8+TL29vY0aNCAV155hdjYWKpVq0ZCQgJJSUkAuLu7l5i8QKstrVu3DoALFy4QFxeHo6Mj1apVY8iQIQCMGDGCgQMHFjnu5MmTHD16FD8/PwDy8vJwdnYGoE2bNgwfPpwBAwYwYMCA+y+oEKLizJ4N27fDsmUwdmzR53x9zTZ5QRVOYHeqKYF2zevcueLb3d21f27u1+DBg1m7di1///03Q4YMISwsjKtXr/Lbb79haWlJ48aN9d3US5tNOiYmhu3bt7Nnzx6sra3x8fEptWv77b0GlVJ4eXmxZ8+eYvtu3LiRXbt2sWHDBubPn8+RI0ewsKiyvyJCVH4bNsD8+VrT0O3JqwqQa2ClmD8frK2LbrO21rY/iCFDhhAeHs7atWsZPHgwaWlp1K1bF0tLS6KjozlXUta8TVpaGvb29lhbW3PixAliY2P1z+Xn5+t7G3733Xc88cQTRY5t1qwZly9f1iewnJwcjh07Rn5+PhcuXMDX15f33nuPtLQ0MjIyHqywQgjD+d//YORIePRRKHSZoCoxeAJLTU0lICCA5s2b06JFC/bs2UNycjJ+fn54enri5+dHSkoKoNUOXn/9dTw8PGjTpg0HDx7Uv05oaCienp54enoSGhpq6LAZPhxCQrQal06n3YeEaNsfhJeXF+np6bi4uODs7Mzw4cP5/fffad26NStXrqR58+Z3fY3evXuTm5tLixYtmDp1apFmxlq1arFv3z5atWrFzp07mTVrVpFja9Sowdq1a5kyZQpt27alXbt27N69m7y8PEaMGEHr1q1p3749r7/+uvR4FKKyunEDBg3SukivXQtWVsaOyDiUgY0aNUp99dVXSimlsrOzVUpKinrnnXfUwoULlVJKLVy4UE2ePFkppdTGjRtV7969VX5+vtqzZ4/q3LmzUkqpq1evqiZNmqirV6+q5ORk1aRJE5WcnHzH83bo0KHYtuPHj5dn0crNtWvXjB1CmZTlfYyOjjZcIJWAOZdPylZJ5ecrNXq0UqDUxo0l7vIg5Svpu7OyMmgNLC0tjV27djFu3DhA++/fzs6OyMhIgoKCAAgKCmL9+vUAREZGMmrUKHQ6HV26dCE1NZXExES2bt2Kn58fDg4O2Nvb4+fnx5YtWwwZuhBCVE5ffw0rVsDMmdC3r7GjMSqDJrAzZ87g5OTEmDFjaN++PePHjyczM5OkpCR9z7cGDRroe90lJCTg5uamP97V1ZWEhIRStwshRJVy4AC8+ir07Kn1PqziDNrFLDc3l4MHD/Lpp5/i7e3NxIkTWbRoUZF9dDpduc2vFxISoh/UGx8fT8xt3QVtbW1JT08vl3OVp7y8vEoZV2mysrKKvbelycjIuOd9TZE5l0/KVrlYpKXR8cUXwd6e3yZMIOfnn0vd1xTLdz8MmsBcXV1xdXXF29sbgICAABYtWkT9+vVJTEzE2dmZxMRE6tWrB4CLiwsXLlzQHx8fH4+LiwsuLi5FPoz4+Hh8fHyKnS84OJjg4GAAOnbsWGyfP//8s1IuW2Iqy6kUsLKyon379ve0b0xMTImflbkw5/JJ2SqR/Hx45hltsPIvv/D4XWaYN7ny3SeDNiE2aNAANzc3Tp48CcCOHTto2bIl/v7++p6EoaGh9O/fHwB/f39WrlyJUorY2FhsbW1xdnamV69eREVFkZKSQkpKClFRUfTq1cuQoQshROXx73/Dli3wySdmvTxKWRl8lOqnn37K8OHDuXnzJk2bNmX58uXk5+cTGBjIsmXLcHd3JyIiAtBmW9+0aRMeHh5YW1uzfPlyABwcHJg5cyad/vngZs2ahYODg6FDF0II49uyBebOhVGjtAlZhZ7BE1i7du04cOBAse07duwotk2n0xWZ7LawsWPHMtZMR5ovWLAAR0dH3n77bWOHIoSoTM6e1Qaftm6tzS4v6/EVITNxlGbx4uKzOEdHa9uFEMLQsrIgIECbrPe//y0+NZCQBFYqAy7PvXLlStq0aUPbtm0ZOXJkkee++uorOnXqRNu2bRk0aBDXr18Hii9IWbBwZWJiIk899RTt2rWjVatW/PxPz6SoqCi6du3Ko48+yuDBg/XTQk2dOlW/ZIrU+ISoxCZOhN9+g9BQ8PAwdjSVUtWdqfVu66kANGwIvXqBszMkJkKLFlpb9Ny5Je9/t/VUgGPHjjFv3jx2795N3bp1SU5O5v3339c/P3DgQF544QUAZsyYwbJly3jttddKfb3vvvuOXr16MX36dPLy8rh+/TpXrlxh3rx5bN++nVq1avHee+/xwQcf8Morr7Bu3TpOnDiBTqeTJVOEqKxWrNDmrps6Ff7p5CaKq7oJ7F7Y22vJ6/x5aNRIe/yAdu7cyeDBg6lbty5Asc4oR48eZcaMGaSmppKRkXHX3padOnVi7Nix5OTkMGDAANq1a8dPP/3E8ePHefzxxwG4efMmXbt2xdbWFisrK8aNG0e/fv3o16/fA5dHCFHODh2Cl1+G7t213oeiVFU3gd1tPRW41Ww4c6Z2AXX2bIOvrTN69GjWr19P27ZtWbFihX78m4WFBfn5+YA24/zNmzcBeOqpp9i1axcbN25k9OjRvPnmm/rptlavXl3s9fft28eOHTtYu3Ytn332GTt37jRoeYQQZZCaqk3S6+gIq1eDLGd0R3INrDQFySsiAt59t9yW5+7evTtr1qzh6tWrACQnJxd5Pj09HWdnZ3JycggLC9Nvb9y4Mb/99hsAP/zwAzk5OQCcO3eO+vXr88ILLzB+/HgOHjxIly5d+PXXX/nrr78AyMzM5NSpU2RkZJCWlkbfvn358MMPOXz48AOVRQhRjvLzta7y58/DmjXwzwQPonSS3kuzf7+WtApqXOW0PLeXlxfTp0+nW7duVK9enfbt2+vnhQT497//jbe3N05OTnh7e+unmHrhhRfo378/bdu2pXfv3vrFLmNiYnj//fextLSkdu3arFy5EicnJ1asWMHzzz9P9j9LSM+bNw8bGxv69+9PVlYWSik++OCD+y6HEKKcvfeetkDlJ59A167GjsY0GHs6fEOR5VQMR5ZTucWcyydlq0DbtytVrZpSzz+vLZfygGQ5FSGEEIYXHw9Dh2q9nL/6SgYrl4EkMCGEMJabN2HwYMjO1gYr/3NpQNwbuQYmhBDG8tZbEBsLa9dCs2bGjsbkVLkamFLK2CGYNHn/hCgnYWHw2WdaEhs0yNjRmKQqlcCsrKy4evWqfAnfJ6UUV69excrKytihCGHajh7VZpZ/6im4bZFfce+qVBOiq6sr8fHxXL582dihFJGVlWUyScHKygpXV1djhyGE6bp2Tatx1akD4eEyWPkBVKl3ztLSkiZNmhg7jGJiYmLueYVjIYQJUwrGjIHTp7VJEQqNARVlV6USmBBCGNWSJfB//6fdP/mksaMxeVXqGpgQQhjNTz9ps8sHBMCkScaOxixIAhNCCEMovCjuxYswZIi2RFObNjJYuZxIAhNCCEMoWBR32zbtPi0NMjLgiSeMHZnZkGtgQghhCAUTgD/zDNy4ATY22mwbBl6SqSqRGpgQQhjKkSNa8gJtFXhJXuVKEpgQQhjC2rUwcSLUqAHTp2uL4j7geoKiKElgQghR3n7+GYYN0wYpR0bCvHnltiiuuMXgCaxx48a0bt2adu3a0bFjR0BbhdjPzw9PT0/8/PxISUkBtKmKXn/9dTw8PGjTpg0HDx7Uv05oaCienp54enoSGhpq6LCFEOL+HD8O/v5gZ6etrNy7t7a98KK4olxUSA0sOjqaQ4cOceDAAQAWLVpEjx49iIuLo0ePHiz6Zy6wzZs3ExcXR1xcHCEhIbz88suAlvDmzp3L3r172bdvH3PnztUnPSGEqDQSErSE9dBDWqIaMKDo876+MHmycWIzQ0ZpQoyMjCQoKAiAoKAg1q9fr98+atQodDodXbp0ITU1lcTERLZu3Yqfnx8ODg7Y29vj5+fHli1bjBG6EEKULC0N+vSB1FTYtAnc3Y0dkdkzeALT6XT07NmTDh06EBISAkBSUhLO/8wB1qBBA5KSkgBISEjAzc1Nf6yrqysJCQmlbhdCiEohOxueew7+/FObKqpdO2NHVCUYfBzYL7/8gouLC5cuXcLPz4/mzZsXeV6n06Erp1HpISEh+iQZHx9PTExMubyuoWVkZJhMrGVlzmUD8y6flO0e5efTYv586kdH8+e0aSRZWICR3zdz/uwKM3gCc3FxAaBevXo899xz7Nu3j/r165OYmIizszOJiYnUq1dPv++FCxf0x8bHx+Pi4oKLi0uRDyM+Ph4fH59i5woODiY4OBiAjh07lrhPZRQTE2MysZaVOZcNzLt8UrZ79M47sHMnLFpEiylTaFE+r/pAzPmzK8ygTYiZmZmkp6frf46KiqJVq1b4+/vrexKGhobSv39/APz9/Vm5ciVKKWJjY7G1tcXZ2ZlevXoRFRVFSkoKKSkpREVF0atXL0OGLoQQd/fxx/Cf/8Crr0rnDCMwaA0sKSmJ5557DoDc3FyGDRtG79696dSpE4GBgSxbtgx3d3ciIiIA6Nu3L5s2bcLDwwNra2uWL18OgIODAzNnzqRTp04AzJo1CwcHB0OGLoQQd7ZmjTar/HPPwUcfyQS9RmDQBNa0aVMOHz5cbLujoyM7duwotl2n07F06dISX2vs2LGMHTu23GMUQogy27ULRoyAx6C083oAACAASURBVB6DsDCoXt3YEVVJMhOHEEKUxbFj0L8/NG0KP/ygjfkSRiEJTAgh7lV8/K2Bylu2gFzKMCpZTkUIIe5FWhr07avd79olA5UrAUlgQghxN4UHKm/eLAOVKwlJYEIIcSf5+TB6tDaL/LffwtNPGzsi8Q+5BiaEEHcyZQqEh8N772k9D0WlIQlMCCFK89FHtwYqv/OOsaMRt5EEJoQQJVmzBt58EwYOlIHKlZQkMCGEuN1PP90aqLxqlQxUrqQkgQkhRGFHj8pAZRMhCUwIIQrEx2uLUlpby0BlEyDd6IUQArSVlPv00QYq//yzDFQ2AZLAhBCiYKDyyZPaQOW2bY0dkbgHksCEEFVbfj4EBWmrKK9aBT16GDsicY/kGpgQomqbPBm+/14bqDx8uLGjEWUgCUwIUXV9+CEsWQKvvSYDlU2QJDAhRNWweLE2n2GBiAhtoHKrVloik4HKJkcSmBCiaujUCQIDIToa20OHtOZCCwt4/30ZqGyipBOHEKJq8PXVal0DB9I2MxOUgv/+V1ugUpgkqYEJIaoGpeDUKUhPp1pODrzyijbjhjBZksCEEObv2jV4/nl46SWoVo0LgwfDd98VvSYmTI4kMCGEeTt4EDp00JoPra1h82ZOT5igPf7nmpgwTQZPYHl5ebRv355+/foBcObMGby9vfHw8GDIkCHcvHkTgOzsbIYMGYKHhwfe3t6cPXtW/xoLFy7Ew8ODZs2asXXrVkOHLIQwB0rBZ59B165w4wa8+CL8+OOtgcoF18T27zdunOK+GTyBffzxx7Ro0UL/eMqUKUyaNIm//voLe3t7li1bBsCyZcuwt7fnr7/+YtKkSUyZMgWA48ePEx4ezrFjx9iyZQsTJkwgLy/P0GELIUxZaioMHqyN73r6aTh0CL74Qktahfn6agOZhUkyaAKLj49n48aNjB8/HgClFDt37iQgIACAoKAg1q9fD0BkZCRBQUEABAQEsGPHDpRSREZGMnToUGrWrEmTJk3w8PBg3759hgxbCGHK9u+HRx+FyEht7NeGDVC3rrGjEgZg0AT2xhtvsHjxYqpV005z9epV7OzssLDQeu+7urqSkJAAQEJCAm5ubgBYWFhga2vL1atXi2y//RghhNBTSls5+fHHIS8Pdu3SZteoJpf6zZXBxoH9+OOP1KtXjw4dOhATE2Oo0xQREhJCSEgIoNX+Kuq8DyojI8NkYi0rcy4bmHf5TKlsFteu0fy996i7ezdXHnuME1OmkJudrU3QWwJTKtv9MPfyFTBYAvv111/54Ycf2LRpE1lZWVy7do2JEyeSmppKbm4uFhYWxMfH4+LiAoCLiwsXLlzA1dWV3Nxc0tLScHR01G8vUPiY2wUHBxMcHAxAx44d8fHxMVTxylVMTIzJxFpW5lw2MO/ymUzZ9uzRrnUlJsJHH1H39dd54i7TQplM2e6TuZevgMHq1gsXLiQ+Pp6zZ88SHh5O9+7dCQsLw9fXl7Vr1wIQGhpK/38GEvr7+xMaGgrA2rVr6d69OzqdDn9/f8LDw8nOzubMmTPExcXRuXNnQ4UthDAV+fnaNa4nn9Smgvr1V5g4UeY0rEIqfCqp9957j6FDhzJjxgzat2/PuHHjABg3bhwjR47Ew8MDBwcHwsPDAfDy8iIwMJCWLVtiYWHB0qVLqS7zlglRtV25AqNGaYtPDhoEX38NdnbGjkpUsApJYD4+PvrqbNOmTUvsRWhlZcWaNWtKPH769OlMnz7dkCEKIUzFzz9rs2pcvqyN85owQWpdVZR0zxFCmIb8fJg/H3x84KGHIDZWm89QkleVJbPRCyEqv6QkGDkStm2DoUPh//0/qFPH2FEJI5MEJoSo3KKjYdgwbXaNkBAYP15qXQKQJkQhRGWVlwdz52pTQdnawt698MILkryEntTAhBCVT2KitmJydLTWdPj551C7trGjEpWMJDAhROWybRuMGAHp6fDNNzB6tNS6RImkCVEIYTyLF99ajys3F2bMgJ49tccHDsCYMZK8RKkkgQkhjKdTJ21RyYgI6N5d6yZvZQUrVkDLlsaOTlRy0oQohDAeX19YsEDrGm9hATY22jIot6/bJUQJpAYmhDCeEydg+nQtceXkwBtvSPIS90wSmBDCOM6c0brI5+Zqk/HOnKmtmlxwTUyIu5AEJoSoeBcvaskrLU17/N//wrvvatfCAgMliYl7IglMCFGxLl/WktelS1oX+f/+91azoa+vlsT27zdqiMI0SCcOIUTFSU2FXr205sMtW6Bbt+L7+PrKdTBxTySBCSEqRmYmPPMMHD0KP/xQcvISogwkgQkhDC8rCwYM0JZAiYiA3r2NHZEwA5LAhBCGlZMDQ4bA9u3aAOVBg4wdkTAT0olDCGE4eXkQFKQ1GS5dqv0sRDmRBCaEMAyl4OWXYfVqWLQIJkwwdkTCzEgCE0KUP6Xg7bfhq69g2jSYMsXYEQkzJAlMCFH+5s6FDz6A11+HefOMHY0wU5LAhBDla8kSLYGNGQMffijLoQiDMWgCy8rKonPnzrRt2xYvLy9mz54NwJkzZ/D29sbDw4MhQ4Zw8+ZNALKzsxkyZAgeHh54e3tz9uxZ/WstXLgQDw8PmjVrxtatWw0ZthDifoWEaE2HgwdrzYfV5H9kYTgG/e2qWbMmO3fu5PDhwxw6dIgtW7YQGxvLlClTmDRpEn/99Rf29vYsW7YMgGXLlmFvb89ff/3FpEmTmPJPu/nx48cJDw/n2LFjbNmyhQkTJpCXl2fI0IUQZRUWBi+9pA1WXrVKm6BXCAMyaALT6XTUrl0bgJycHHJyctDpdOzcuZOAgAAAgoKCWL9+PQCRkZEE/dPNNiAggB07dqCUIjIykqFDh1KzZk2aNGmCh4cH+/btM2ToQoiyWL9e6yLv4wNr1kCNGsaOSFQBBq/f5+Xl0a5dO+rVq4efnx8PP/wwdnZ2WFhoY6hdXV1JSEgAICEhATc3NwAsLCywtbXl6tWrRbbffowQwsi2bdMGKnfsqC1G+dBDxo5IVBEGn4mjevXqHDp0iNTUVJ577jlOnDhhsHOFhIQQEhICQHx8PDExMQY7V3nKyMgwmVjLypzLBuZdvnspm+2RI7SZPJkbrq4cmj6d3N9+q5jgHpA5f25g/uUrUGFTSdnZ2eHr68uePXtITU0lNzcXCwsL4uPjcXFxAcDFxYULFy7g6upKbm4uaWlpODo66rcXKHxMYcHBwQQHBwPQsWNHfHx8KqRsDyomJsZkYi0rcy4bmHf57lq2336DGTOgUSNq79rFE/XrV1hsD8qcPzcw//IVMGgT4uXLl0lNTQXgxo0bbNu2jRYtWuDr68vatWsBCA0NpX///gD4+/sTGhoKwNq1a+nevTs6nQ5/f3/Cw8PJzs7mzJkzxMXF0blzZ0OGLoS4k2PHtGVR7O21OQ5NKHkJ82HQGlhiYiJBQUHk5eWRn59PYGAg/fr1o2XLlgwdOpQZM2bQvn17xo0bB8C4ceMYOXIkHh4eODg4EB4eDoCXlxeBgYG0bNkSCwsLli5dSnXp4SSEcZw+DX5+YGmpJa9C16eFqEgGTWBt2rTh999/L7a9adOmJfYitLKyYs2aNSW+1vTp05k+fXq5xyiEKIP4eOjRA27ehJ9+Ag8PY0ckqjBZTkUIcW8uXYKnn4aUFNi5E7y8jB2RqOIkgQkh7i4lBXr2hPPnISoKOnQwdkRCSAITQtxFejr06QN//gkbNsATTxg7IiEASWBCiDu5cQP694cDB2DtWq0WJkQlITNtCiFuWbwYoqMB0OXkaJPyRkdDQAAMGGDk4IQoShKYEOKWTp0gMBC2b6fFggWwcSPUrg0vvmjsyIQoRpoQhRC3+PpCaCj060e97GyoVQt++EHbLkQlIzUwIcQte/fCxImQna09fvNNSV6i0pIEJoSAnByYMwcefxyuXQNbW86OHAlffKG/JiZEZSMJTIiq7tQpLXHNnQvdu0NeHqxbx9mxYyEiQrsmJklMVEKSwISoqpTSaljt2mnzG0ZEaDNtrFlzq9nQ11fbvn+/cWMVogTSiUOIqujvv2HsWNi8WRvbtXw5NGxY8r6+vnIdTFRKUgMToqpZtw5atdKaBT/9FLZsKT15CVGJSQIToqq4dk2rdQ0cCI0bw++/w6uvgk5n7MiEuC+SwISoCn75Bdq21cZ4TZ8Ou3dD8+bGjkqIByIJTAhzdvMmTJsG3bpBtWqwaxfMmwc1ahg7MiEemHTiEMJcHT8OI0ZoTYXjxsGHH4KNjbGjEqLcSA1MCHOTnw+ffKKt2XXhgtZp4+uvJXkJsyM1MCHMSUICjBkD27bBM8/AsmVQv76xoxLCIKQGJoS5+P57aN0afv0VvvxSW3xSkpcwY5LAhDB1qanata6hQ8HTU7vm9eKL0j1emD1JYEKYsuhoaNMGwsO1yXh//RUeecTYUQlRIQyawC5cuICvry8tW7bEy8uLjz/+GIDk5GT8/Pzw9PTEz8+PlJQUAJRSvP7663h4eNCmTRsOHjyof63Q0FA8PT3x9PQkNDTUkGELUfllZ8Pbb0OPHmBlpY3rmj0bLOSytqg6DJrALCwsWLJkCcePHyc2NpalS5dy/PhxFi1aRI8ePYiLi6NHjx4sWrQIgM2bNxMXF0dcXBwhISG8/PLLgJbw5s6dy969e9m3bx9z587VJz0hzNrixcVngv/6a20mjSVL4KWXtCbDzp2NEp4QxmTQBObs7Myjjz4KgI2NDS1atCAhIYHIyEiCgoIACAoKYv369QBERkYyatQodDodXbp0ITU1lcTERLZu3Yqfnx8ODg7Y29vj5+fHli1bDBm6EJVDp063ljPJz9cS1gsvaDWwjRvh88+1VZOFqIIqrL3h7Nmz/P7773h7e5OUlISzszMADRo0ICkpCYCEhATc3Nz0x7i6upKQkFDqdiHMXsFyJgEB2jiuc+e0tbvWrQMnJ2NHJ4RRVUgCy8jIYNCgQXz00UfUqVOnyHM6nQ5dOfWWCgkJISQkBID4+HhiYmLK5XUNLSMjw2RiLStzLhsYvnzVb9ygUVgYjVJT0SUnc6VrV47++99w7JjBzlnAnD87cy4bmH/5Chg8geXk5DBo0CCGDx/OwIEDAahfvz6JiYk4OzuTmJhIvXr1AHBxceHChQv6Y+Pj43FxccHFxaXIhxEfH4+Pj0+xcwUHBxMcHAxAx44dS9ynMoqJiTGZWMvKnMsGBixffj6EhcGUKZCYCDVrwksvUTcsDB+ACnhPzfmzM+eygfmXr4BBr4EppRg3bhwtWrTgzTff1G/39/fX9yQMDQ2lf//++u0rV65EKUVsbCy2trY4OzvTq1cvoqKiSElJISUlhaioKHr16mXI0IUwnn37tGbCUaO0ZkM7O23hyY8+0poTC66JCVHFGbQG9uuvv/Ltt9/SunVr2rVrB8CCBQuYOnUqgYGBLFu2DHd3dyIiIgDo27cvmzZtwsPDA2tra5YvXw6Ag4MDM2fOpFOnTgDMmjULBwcHQ4YuRMW7eBH+9S9YuRIaNIAVK7SVkzt3vrUicsE1sf37ZZVkUeUZNIE98cQTKKVKfG7Hjh3Ftul0OpYuXVri/mPHjmXs2LHlGp8QlUJWljZT/Pz5kJMDU6dqS6CUNvmur68kLyGQyXyFMB6lYP16eOstOHMG+vfXxnY9/LCxIxPCJMhUUkIYw9Gj4OcHAwfCQw9BVJSWzCR5CXHPJIEJUZGuXoVXX4W2beHgQfj0Uzh8WEtmQogykSZEISpCTo62xMns2XDtGkyYoE2+6+ho7MiEMFmSwIQwtG3b4I034PhxbfLdjz6CVq2MHZUQJk+aEIUwlL/+0jpm9Oyp9TRct05LZpK8hCgXksCEKG/p6VpXeC8v2LEDFi7Upn4aMEAWmRSiHEkTohDlJT9fG4T8r39pA5CDgmDBAmjY0NiRCWGWpAYmRFmVtEbXp59Co0YwZoy2VtfevdpMGpK8hDAYqYEJUVYFa3RFRFDzyhV4+mmtqdDREVatguefh2ryv6EQhiYJTIiy8vWF5cuhXz+8s7MhLw9GjIAvvoDatY0dnRBVhvybKERZXLoEM2bAyJFw/TrV8vLgtdfg228leQlRwSSBCXEvzp7VZtBwd9c6ZrRuDXZ2nB05ElavluVNhDACSWBC3MnRo1pty8MDQkJg2DCt+fDPP+H//o+zY8fKGl1CGIkkMCFKsns3PPusVtNatw4mToT//Q+WLYOkJC1plbRGlxCiwkgnDiEKKKWtfLxoEfz8s9arcO5ceOWVonMWTp5c/FhZo0uICicJTIjcXFizRktcf/wBbm7w8ccwbhzUqmXs6IQQpZAEJqqurCztetb772sLSrZooQ0+fv55qFHD2NEJIe5CEpioetLStDFbH32kXc/y9oYPP9SueckAZCFMhiQwUXX8/bfWNPj559qaXL16aZPudusmk+wKYYIkgQnzd/o0/Oc/WnNhTg4EBGiJq317Y0cmhHgAksCE6Vu8WJufsHAvwOhoiIzUZs74/nuwsIDRo+Htt8HT02ihCiHKjyQwYfoKTa6Lj4/WTDh5slbbql0b3noLJk0CZ2djRyqEKEcGvWI9duxY6tWrR6tCK9AmJyfj5+eHp6cnfn5+pKSkAKCU4vXXX8fDw4M2bdpw8OBB/TGhoaF4enri6elJaGioIUMWpsjXF8LCtAUjGzXSkpW1NcyfD+fPazU0SV5CmB2DJrDRo0ezZcuWItsWLVpEjx49iIuLo0ePHixatAiAzZs3ExcXR1xcHCEhIbz88suAlvDmzp3L3r172bdvH3PnztUnPVHFKQUHD2qzZAwfrnXMiI+H3r0hMRGmTQN7e2NHKYQwEIMmsKeeegoHB4ci2yIjIwkKCgIgKCiI9evX67ePGjUKnU5Hly5dSE1NJTExka1bt+Ln54eDgwP29vb4+fkVS4qiivn7b1iyBNq2hQ4d4MsvwcsL6tSB6dPhwAGIjTV2lEIIA6vwa2BJSUk4/9Oc06BBA5KSkgBISEjAzc1Nv5+rqysJCQmlbhdVTFYWbNgAoaGwZYu2Bpe3t9YlvmFDGD8e1q/XmhN79Lh1TUymdxLCbBm1E4dOp0NXjuNvQkJCCAkJASA+Pp6YmJhye21DysjIMJlYy+qByqYUNn/+SYOtW6kXHY1lejrZdevy95AhJPXqxfVGjQBwW72a9GnTSNXpICYGdDrspk3DJjycCwYe3yWfnWky57KB+ZevQIUnsPr165OYmIizszOJiYnUq1cPABcXFy5cuKDfLz4+HhcXF1xcXIp8EPHx8fj4+JT42sHBwQQHBwPQsWPHUverbGJiYkwm1rK6r7IlJGgLRIaGwokTYGUFAwfC6NHU7N4d9+rVcS+8f0mv/8+2h+8v7Hsmn51pMueygfmXr0CFz5vj7++v70kYGhpK//799dtXrlyJUorY2FhsbW1xdnamV69eREVFkZKSQkpKClFRUfTq1auiwxaGdv06fPedNjuGmxv8619Qty589ZV2zSssDPz8oHp1Y0cqhKgkDFoDe/7554mJieHKlSu4uroyd+5cpk6dSmBgIMuWLcPd3Z2IiAgA+vbty6ZNm/Dw8MDa2prly5cD4ODgwMyZM+nUqRMAs2bNKtYxRJgopeDXX7WaVkSE1ovQ3R1mzIBRo7RFJIUQohQGTWCrV68ucfuOHTuKbdPpdCxdurTE/ceOHcvYsWPLNTZhROfOwcqV2u2vv7QlSwICIChIm5dQJtQVQtwDmYlDlL+SpnbatEmraV2+rE3zBNrzM2bAoEHajBlCCFEGksBE+SuY2ik8HLsjR2DhQoiK0p57+GF4910YORIaNzZqmEII0yYJTJSvq1e1Thft24OfH+2U0pYq6dtX65jx+OOydIkQolxIAhMPJj9fm85p82bttnevts3RUZsd4+hRmDJFq4UJIUQ5kgQmyi4lRWsS3LRJmxXj0iWtVtWxo3ZNq29fSE+H55/n7MiRNP76a+jZU2bFEEKUK0lg4u7y8+HQoVu1rD17tG0ODtq4rT59tPt/BqUTHQ3PPw8REZzV6Wg8ZoxM7SSEKHeSwETJUlNh27Zbtay//9a2d+igTZjbpw907lzywOL9+28lq5gY7T4iQtsuCUwIUU4kgQmNUnD4sFbD2rRJq2Xl5WnLkfTsqTUL9uoF9evf/bUmTy6+zddXkpcQolxJAqsqShqbtWGDVjOqUUOrZV28qG1v3x6mTtVqWd7eYCG/JkKIyke+maqKgrFZCxdqXd2/+w7++EN7zta2aC1LVi8WQpgASWDmLD4e9u3Turbv2wcZGfDCC9pz1avDsGHw0kvQtavUsoQQJke+tczFtWvaSsQFyWrfvltNgpaW0K4djBunJbXISJg2TZsRQwghTJQkMFOUk6M1/xUkqr17tXWzlNKe9/TUrnV5e2s9Bdu21dbUio7WmhFnzoQvvpCOFUIIkyYJzFhK6lQRHa11NS/ci08p+N//ijYFHjwI2dna805OWqJ6/nntvmNHbXzW7QqSV0H3dl9fGZslhDBpksCMpaBTRUSENotFQYL56iutG3tB7WrfPq3TBcBDD2njsF59VatZde6srZ91L3MLFh6bBTI2Swhh8iSBGYuPD3z5JTz3HG08PeHIEa3m9Nxz2vPVqmlzCQ4YoCUqb2/t8f12tpCxWUKYvbAwbZ6B8+e70agRzJ8Pw4cbOyrDkQRmaNeuQVwcnDp163bypHafng6Aw4EDUKcOPPbYretWjz4KNjZGDl4I8SBuJRQMnlDCwiA4GK5fB9Bx7pz2GMw3iUkCKw83b2rXqQonqYJEVTAFE2hNfe7u8Mgj2urDAN9+ywU/P9xiYuCVV6RGJIQBVWQNpWhCQZ9Q8vO1hpYbN+79lpV1931279a+igq7fl0rryQwc3e3ThX5+ZCQUDxJnToFZ85o0y4VcHLSklSfPtp9s2ba/cMPa70BC147MBDWreO0TofbhAnSqUJUChXdDFVRtZSSaigvvKA1kvTtqyWJgkRR+L60n++27cABrcNwYdevw6hR918GKyvtUvhDDxX9+aGHiievAufP3//5KjtJYAUKOlV8842WgCIj4ZNPtO3ffac1Axb8KwVgba0lpUcfhaFDbyUqT09t/sC7kQlvxT0yt2YopbQv9uxs7Xxvvql98YNWSxk3Do4fhyeeuJUMsrK0/Qs/Lm1badvPny/6fyZo550woexl0OmKJhErq6I/16pVPHkVtnhx0eRzL7eaNbVL46Vp3Fh7/27XqFHZy2cqJIEVKEggzzxz66+pWjVtMPAjj0D37kVrUw0bPtjKwtKpolxV5Jd80fMZtpZSWjMU3Pv58vO1/86zs7XbnX6eNKno/2mgPX71Va2hoSAxFBxzL49L2lYwZLEk2dmwYMHdy1Wjxq3EYWWlfcEXfly7trauasHjM2dKf61ly0pPRiVts7S8+59/aQnF3R3eeefu5Sur+fOL/q6A9n/2/Pnlf67KQhJYYb6+MHIkhIRo/5Z99JH2m2omKvo/eWNfa4CKbYrKyAB/fy0RlOVWkDxKuoWElJxQxo+Hr7++t6SUm/vgZU5N1ca/63S3kkXBraTHdnZ336dmzdK/yHU6bUGEkhKTlZWWvO5UGynJzz+XnlDGji37e3I3FZ1QCn7Xtb87RaNGOrPvhahT6k7/C1UeW7ZsYeLEieTl5TF+/HimTp16x/07duzIgQMHynSO7dOjab8okM/zX2ZCtS/4fWoET883XI3o1pe84X/Zbv+SB+2PKSSk/M95r+dSSmvSycnRbrm5t36+l1vB/i++CFeuFI/Dzg7eekv7Es/JKb/7K1fuXIMoD5aW2pd0Zmbp+zz55K2EUKPGvf98p+cDA4v2Oyrg5ganT2ujOB6k4eF2d6qlnD1bfueBiv0bKHzOimwZKBATE4OPj899HXs/353GYhIJLC8vj0ceeYRt27bh6upKp06dWL16NS1btiz1mLJ+CNunR9N2QSCBRBCDLz5EE0Egh6cZJomV9se0dCkEBGhfzrm52hd8wc8P8viVV26Nhy7Mzg6mTLmVDAqOK5wgbt92t58PHy65/b9aNW1kQOEkVFEKEkJ53H/5Zenn+eILbb/CyeJ+bgVJoiK/4KHiv+SNcb6qUEOpKgnMJJoQ9+3bh4eHB02bNgVg6NChREZG3jGBldX+z/cz/5/kBRCDL4FE8Nji/Xx61Je8PPS3gsRw+60s269dK/5f/PXrMGaMdqsoqanwr3/demxhcetmaVm2n62stPvSElN+vjZ6wNKy+K3gte71Vnj/Pn0gMbH4+QxVa9i8ufSk8tJL5XceMP9mqKLnM3wtZfhw7RYT89N9f8GLysMkElhCQgJubm76x66uruzdu7dczzE9bTK3V0Vj8CUm15e257TVRwpuFhbafc2aJW+//VbS9k8+KT2W99+/dVzB7W6P77bP00/fmpy+MDc3bSRAwf7l8UV/p1rDxx8/+Ovf7v33S/6SX7jQMJcwKzKpVPQXfME5K/JLvuB8QpSVSSSwexUSEkJISAgA8fHxxMTE3POx9ep1ISnJqtj2+vWz+Oij2PIKUe/770s/X8eO93++gqa8240ZU4///KcZ2dnV9dtq1sxj1KiTxMZeuu/zlWTEiJLPNWLESWJiyvdcAC4uMGlSPb7+uimXLtWkXr1sxo//Hy4ulyjDr0ClPt+KFUW3GeI8t8vIyCjT35ApMeeygfmXT0+ZgN27d6uePXvqHy9YsEAtWLDgjsd06NChTOdYtUopa2ultIY97WZtrW03hIo+X8E53d2V0um0+4o5V77Bz2VM0dHRxg7BYKRsputBylfW705jKmNHVOPo1KkTcXFxnDlzhps3bxIeHo6/v3+5nmP4cO3CccHk7u7uhu2dVPR8yuDnKzjn2bPataizZyvmXDt3/mTwcwkhqiaTaEK0sLDgs88+o1evXuTl5TF27Fi8vLzK/TwV3RYvF5SFEOL+VblZuQAABVlJREFUmUQCA+jbty99+/Y1dhhCCCEqCZNoQhRCCCFuJwlMCCGESZIEJoQQwiRJAhNCCGGSTGIuxPtRt25dGjdubOww7snly5dxcnIydhgGYc5lA/Mun5TNdD1I+c6ePcuVkmbHroTMNoGZElOaPLOszLlsYN7lk7KZLnMvXwFpQhRCCGGSJIEJIYQwSdXnzJkzx9hBCOjQoYOxQzAYcy4bmHf5pGymy9zLB3INTAghhImSJkQhhBAmSRKYEaWmphIQEEDz5s1p0aIFe/bsMXZI5erDDz/Ey8uLVq1a8fzzz5OVlWXskO7b2LFjqVevHq1atdJvS05Oxs/PD09PT/z8/EhJSTFihA+mpPK98847NG/enDZt2vDcc8+RmppqxAjvX0llK7BkyRJ0Op3JdBu/XWll+/TTT2nevDleXl5MnjzZSNEZniQwI5o4cSK9e/fmxIkTHD58mBYtWhg7pHKTkJDAJ598woEDBzh69Ch5eXmEh4cbO6z7Nnr0aLZs2VJk26JFi+jRowdxcXH06NGDRYsWGSm6B1dS+fz8/Dh69Ch//PEHjzzyCAsXLjRSdA+mpLIBXLhwgaioKBo1amSEqMpHSWWLjo4mMjKSw4cPc+zYMd5++20jRWd4ksCMJC0tjV27djFu3DgAatSogZ2dnZGjKl+5ubncuHGD3Nxcrl+/TsOGDY0d0n176qmncHBwKLItMjKSoKAgAIKCgli/fr0xQisXJZWvZ8+eWFhoC1Z06dKF+Ph4Y4T2wEoqG8CkSZNYvHgxOp3OCFGVj5LK9sUXXzB16lRq1qwJQL169YwRWoWQBGYkZ86cwcnJiTFjxtC+fXvGjx9PZmamscMqNy4uLrz99ts0atQIZ2dnbG1t6dmzp7HDKldJSUk4OzsD0KBBA5KSkowckeF888039OnTx9hhlJvIyEhcXFxo27atsUMpd6dOneLnn3/G29ubbt26sX//fmOHZDCSwIwkNzeXgwcP8vLLL/P7779Tq1Ytk26Cul1KSgqRkZGcOXOGixcvkpmZyapVq4wdlsHodDqT/k/+TubPn4+FhQXDzWRZ7evXr7NgwQLeffddY4diELm5uSQnJxMbG8v7779PYGAg5trZXBKYkbi6uuLq6oq3tzcAAQEBHDx40MhRlZ/t27fTpEkTnJycsLS0ZODAgezevdvYYZWr+vXrk5iYCEBiYqJZNtWsWLGCH3/8kbCwMLNJ0KdPn+bMmTO0bduWxo0bEx8fz6OPPsrff/9t7NDKhaurKwMHDkSn09G5c2eqVatmsp1U7kYSmJE0aNAANzc3Tp48CcCOHTto2bKlkaMqP40aNSI2Npbr16+jlGLHjh1m1UkFwN/fn9DQUABCQ0Pp37+/kSMqX1u2bGHx4sX88MMPWFtbGzucctO6dWsuXbrE2bNnOXv2LK6urhw8eJAGDRoYO7RyMWDAAKKjowGtOfHmzZvUrVvXyFEZiBJG8/vvv6sOHTqo1q1bq/79+6vk5GRjh1SuZs2apZo1a6a8vLzUiBEjVNb/b+eOTSSEojCMJlOEoGCgmcHDFpwmhClgmrIVK1LzMbqbbjCRyyIXzqngv9EHL3ifz92TLpvnOaqqisfjEXVdx7Isse97TNMUfd/H8/mM4zjunnnZt/u6roumaaKUEqWUeL/fd8+85Nttv7VtG9u23bTub77ddp5nvF6vGIYhxnGMdV3vnvlv/MQBQEqeEAFIScAASEnAAEhJwABIScAASEnAAEhJwABIScAASEnAAEhJwABIScAASEnAAEhJwABIScAASEnAAEhJwABIScAASEnAAEhJwABIScAASOkHLnA3ktuReZYAAAAASUVORK5CYII=)"
      ],
      "metadata": {
        "id": "yhEMGLOulE4x"
      }
    },
    {
      "cell_type": "markdown",
      "source": [
        "### Code"
      ],
      "metadata": {
        "id": "0txG_S3vkj2v"
      }
    },
    {
      "cell_type": "code",
      "source": [
        "for i in range(5,17):\n",
        "  print(\"\\n\"+str(i)+\"-Queens\")\n",
        "  solve_n_queens(i)"
      ],
      "metadata": {
        "colab": {
          "base_uri": "https://localhost:8080/"
        },
        "id": "sjeckt_Woxw6",
        "outputId": "dbe0b6df-fd37-4060-ee49-9d983fdaeed1"
      },
      "execution_count": null,
      "outputs": [
        {
          "output_type": "stream",
          "name": "stdout",
          "text": [
            "\n",
            "5-Queens\n",
            "c Building data structures in 0.00s\n",
            "c Ready to go with 25 variables and 170 clauses\n",
            "\n",
            "6-Queens\n",
            "c Building data structures in 0.00s\n",
            "c Ready to go with 36 variables and 302 clauses\n",
            "\n",
            "7-Queens\n",
            "c Building data structures in 0.00s\n",
            "c Ready to go with 49 variables and 490 clauses\n",
            "\n",
            "8-Queens\n",
            "c Building data structures in 0.00s\n",
            "c Ready to go with 64 variables and 744 clauses\n",
            "\n",
            "9-Queens\n",
            "c Building data structures in 0.00s\n",
            "c Ready to go with 81 variables and 1074 clauses\n",
            "\n",
            "10-Queens\n",
            "c Building data structures in 0.00s\n",
            "c Ready to go with 100 variables and 1490 clauses\n",
            "\n",
            "11-Queens\n",
            "c Building data structures in 0.00s\n",
            "c Ready to go with 121 variables and 2002 clauses\n",
            "\n",
            "12-Queens\n",
            "c Building data structures in 0.00s\n",
            "c Ready to go with 144 variables and 2620 clauses\n",
            "\n",
            "13-Queens\n",
            "c Building data structures in 0.00s\n",
            "c Ready to go with 169 variables and 3354 clauses\n",
            "\n",
            "14-Queens\n",
            "c Building data structures in 0.01s\n",
            "c Ready to go with 196 variables and 4214 clauses\n",
            "c 100 conflicts, 2209 propagations, 1 restarts, 0/0 unaries, 49 decisions depth, 187 propagation depth, 1095 resolutions\n",
            "\n",
            "15-Queens\n",
            "c Building data structures in 0.01s\n",
            "c Ready to go with 225 variables and 5210 clauses\n",
            "c 100 conflicts, 2527 propagations, 1 restarts, 0/0 unaries, 57 decisions depth, 213 propagation depth, 1124 resolutions\n",
            "\n",
            "16-Queens\n",
            "c Building data structures in 0.01s\n",
            "c Ready to go with 256 variables and 6352 clauses\n",
            "c 100 conflicts, 2422 propagations, 1 restarts, 0/0 unaries, 65 decisions depth, 244 propagation depth, 1106 resolutions\n"
          ]
        }
      ]
    },
    {
      "cell_type": "code",
      "source": [
        "n_queens = list(range(5, 17))\n",
        "variables = [25,36,49,64,81,100,121,144,169,196,225,256]\n",
        "clauses = [170,302,490,744,1074,1490,2002,2620,3554,4214,5210,6352]"
      ],
      "metadata": {
        "id": "dWwB9S-WqJYu"
      },
      "execution_count": null,
      "outputs": []
    },
    {
      "cell_type": "code",
      "source": [
        "import matplotlib.pyplot as plt\n",
        "\n",
        "fig, ax = plt.subplots()\n",
        "\n",
        "plt.plot(n_queens, variables, \"-bo\", label='variables')\n",
        "plt.legend()\n",
        "plt.plot(n_queens, clauses, \"-rx\", label='clauses')\n",
        "plt.legend()\n",
        "ax.grid()\n",
        "ax.set_title(\"Chessboard Size vs. Variables / Clause\")\n",
        "\n",
        "fig.savefig(\"variable_clause.png\")\n",
        "plt.show()"
      ],
      "metadata": {
        "colab": {
          "base_uri": "https://localhost:8080/",
          "height": 281
        },
        "id": "Sj4JcRbnotlj",
        "outputId": "491e3fed-3cef-4c31-d7d4-901a66880d67"
      },
      "execution_count": null,
      "outputs": [
        {
          "output_type": "display_data",
          "data": {
            "image/png": "[encoded data removed]",
            "text/plain": [
              "<Figure size 432x288 with 1 Axes>"
            ]
          },
          "metadata": {
            "needs_background": "light"
          }
        }
      ]
    }
  ]
}